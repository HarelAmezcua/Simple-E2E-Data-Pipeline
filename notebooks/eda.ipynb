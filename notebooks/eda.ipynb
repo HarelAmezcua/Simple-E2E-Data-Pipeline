{
 "cells": [
  {
   "cell_type": "markdown",
   "id": "39b8ca36",
   "metadata": {},
   "source": [
    "# Exploratory Data Anaylisis for dataset \"Electric Vehicle Population Data\"\n",
    "\n",
    "This dataset shows the Battery Electric Vehicles (BEVs) and Plug-in Hybrid Electric Vehicles (PHEVs) that are currently registered through Washington State Department of Licensing (DOL)."
   ]
  },
  {
   "cell_type": "code",
   "execution_count": 1,
   "id": "cb560f71",
   "metadata": {},
   "outputs": [],
   "source": [
    "import pandas as pd\n",
    "import numpy as np\n",
    "import os\n",
    "import sys\n",
    "\n",
    "if not hasattr(os, \"_chdir_once\"):\n",
    "    os.chdir(\"..\")\n",
    "    os._chdir_once = True"
   ]
  },
  {
   "cell_type": "markdown",
   "id": "ef8d6977",
   "metadata": {},
   "source": [
    "### Head Analysis\n",
    "**At first glance, we can see that dataset contain the following columns:**  \n",
    "'VIN (1-10)', 'County', 'City', 'State', 'Postal Code', 'Model Year', 'Make', 'Model', 'Electric Vehicle Type', 'Clean Alternative Fuel Vehicle (CAFV) Eligibility', 'Electric Range', 'Base MSRP', 'Legislative District', 'DOL Vehicle ID', 'Vehicle Location', 'Electric Utility', '2020 Census Tract'"
   ]
  },
  {
   "cell_type": "code",
   "execution_count": null,
   "id": "38428fdb",
   "metadata": {},
   "outputs": [],
   "source": [
    "dataset_path = os.path.join(os.getcwd(), \"dataset\",\"Electric_Vehicle_Population_Data.csv\")\n",
    "data_frame = pd.read_csv(dataset_path)\n",
    "data_frame.head()"
   ]
  },
  {
   "cell_type": "code",
   "execution_count": 18,
   "id": "f7c9258c",
   "metadata": {},
   "outputs": [
    {
     "name": "stdout",
     "output_type": "stream",
     "text": [
      "Number of County:  218\n",
      "Number of State:  48\n",
      "Number of Makes:  46\n",
      "Index(['VIN (1-10)', 'County', 'City', 'State', 'Postal Code', 'Model Year',\n",
      "       'Make', 'Model', 'Electric Vehicle Type',\n",
      "       'Clean Alternative Fuel Vehicle (CAFV) Eligibility', 'Electric Range',\n",
      "       'Base MSRP', 'Legislative District', 'DOL Vehicle ID',\n",
      "       'Vehicle Location', 'Electric Utility', '2020 Census Tract'],\n",
      "      dtype='object')\n"
     ]
    }
   ],
   "source": [
    "print(\"Number of County: \", len(data_frame['County'].unique()))\n",
    "print(\"Number of State: \", len(data_frame['State'].unique()))\n",
    "print(\"Number of Makes: \", len(data_frame['Make'].unique()))\n",
    "print(data_frame.columns)"
   ]
  },
  {
   "cell_type": "code",
   "execution_count": 17,
   "id": "ffd715c9",
   "metadata": {},
   "outputs": [
    {
     "data": {
      "text/plain": [
       "array(['AE', 'AK', 'AL', 'AR', 'AZ', 'BC', 'CA', 'CO', 'CT', 'DC', 'DE',\n",
       "       'FL', 'GA', 'HI', 'ID', 'IL', 'IN', 'KS', 'KY', 'LA', 'MA', 'MD',\n",
       "       'ME', 'MI', 'MN', 'MO', 'MS', 'NC', 'NE', 'NH', 'NJ', 'NM', 'NS',\n",
       "       'NV', 'NY', 'OH', 'OK', 'OR', 'PA', 'RI', 'SC', 'TN', 'TX', 'UT',\n",
       "       'VA', 'WA', 'WI', 'WY'], dtype=object)"
      ]
     },
     "execution_count": 17,
     "metadata": {},
     "output_type": "execute_result"
    }
   ],
   "source": [
    "np.sort(data_frame['State'].unique())"
   ]
  },
  {
   "cell_type": "code",
   "execution_count": null,
   "id": "32d9fbb0",
   "metadata": {},
   "outputs": [],
   "source": [
    "data_frame.info()"
   ]
  }
 ],
 "metadata": {
  "kernelspec": {
   "display_name": "Python (default)",
   "language": "python",
   "name": "default_venv"
  },
  "language_info": {
   "codemirror_mode": {
    "name": "ipython",
    "version": 3
   },
   "file_extension": ".py",
   "mimetype": "text/x-python",
   "name": "python",
   "nbconvert_exporter": "python",
   "pygments_lexer": "ipython3",
   "version": "3.13.2"
  }
 },
 "nbformat": 4,
 "nbformat_minor": 5
}
